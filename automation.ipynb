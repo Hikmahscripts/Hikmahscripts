{
  "nbformat": 4,
  "nbformat_minor": 0,
  "metadata": {
    "colab": {
      "provenance": [],
      "authorship_tag": "ABX9TyMieomJ6w4+33UWzTyrwYay",
      "include_colab_link": true
    },
    "kernelspec": {
      "name": "python3",
      "display_name": "Python 3"
    },
    "language_info": {
      "name": "python"
    }
  },
  "cells": [
    {
      "cell_type": "markdown",
      "metadata": {
        "id": "view-in-github",
        "colab_type": "text"
      },
      "source": [
        "<a href=\"https://colab.research.google.com/github/Hikmahscripts/Hikmahscripts/blob/main/automation.ipynb\" target=\"_parent\"><img src=\"https://colab.research.google.com/assets/colab-badge.svg\" alt=\"Open In Colab\"/></a>"
      ]
    },
    {
      "cell_type": "code",
      "execution_count": 4,
      "metadata": {
        "colab": {
          "base_uri": "https://localhost:8080/"
        },
        "id": "5No3B6eDR8sM",
        "outputId": "1d36b5d8-72d7-4971-a578-cb5728bdc45c"
      },
      "outputs": [
        {
          "output_type": "stream",
          "name": "stdout",
          "text": [
            "Mounted at /content/drive\n",
            "7714aeac84dd8cb38d7ae74eccbd287a.png\n"
          ]
        }
      ],
      "source": [
        "import os\n",
        "#mounts google drive to access files\n",
        "from google.colab import drive\n",
        "drive.mount('/content/drive', force_remount=True)\n",
        "\n",
        "#sets path to Downloads folder in google drive\n",
        "starting_folder = (\"/content/drive/My Drive/Downloads\")\n",
        "\n",
        "\n",
        "#lists files in the folder\n",
        "with os.scandir(starting_folder) as entries:\n",
        "  for entry in entries:\n",
        "    print(entry.name)\n",
        "\n"
      ]
    },
    {
      "cell_type": "code",
      "source": [],
      "metadata": {
        "id": "3m0nGyAqSapW"
      },
      "execution_count": null,
      "outputs": []
    }
  ]
}